{
  "nbformat": 4,
  "nbformat_minor": 0,
  "metadata": {
    "colab": {
      "name": "smai_project_prashant.ipynb",
      "provenance": [],
      "collapsed_sections": []
    },
    "kernelspec": {
      "display_name": "Python 3",
      "language": "python",
      "name": "python3"
    },
    "language_info": {
      "codemirror_mode": {
        "name": "ipython",
        "version": 3
      },
      "file_extension": ".py",
      "mimetype": "text/x-python",
      "name": "python",
      "nbconvert_exporter": "python",
      "pygments_lexer": "ipython3",
      "version": "3.8.5"
    },
    "accelerator": "GPU",
    "widgets": {
      "application/vnd.jupyter.widget-state+json": {
        "8daf118659a747f2934b1df999bc6314": {
          "model_module": "@jupyter-widgets/controls",
          "model_name": "HBoxModel",
          "state": {
            "_view_name": "HBoxView",
            "_dom_classes": [],
            "_model_name": "HBoxModel",
            "_view_module": "@jupyter-widgets/controls",
            "_model_module_version": "1.5.0",
            "_view_count": null,
            "_view_module_version": "1.5.0",
            "box_style": "",
            "layout": "IPY_MODEL_940feccb78834657aa8222e9abf6ec9f",
            "_model_module": "@jupyter-widgets/controls",
            "children": [
              "IPY_MODEL_499bcbe621b2484c88917dc1a949db62",
              "IPY_MODEL_59304de251dd4395b7d11526ab2d22a9"
            ]
          }
        },
        "940feccb78834657aa8222e9abf6ec9f": {
          "model_module": "@jupyter-widgets/base",
          "model_name": "LayoutModel",
          "state": {
            "_view_name": "LayoutView",
            "grid_template_rows": null,
            "right": null,
            "justify_content": null,
            "_view_module": "@jupyter-widgets/base",
            "overflow": null,
            "_model_module_version": "1.2.0",
            "_view_count": null,
            "flex_flow": null,
            "width": null,
            "min_width": null,
            "border": null,
            "align_items": null,
            "bottom": null,
            "_model_module": "@jupyter-widgets/base",
            "top": null,
            "grid_column": null,
            "overflow_y": null,
            "overflow_x": null,
            "grid_auto_flow": null,
            "grid_area": null,
            "grid_template_columns": null,
            "flex": null,
            "_model_name": "LayoutModel",
            "justify_items": null,
            "grid_row": null,
            "max_height": null,
            "align_content": null,
            "visibility": null,
            "align_self": null,
            "height": null,
            "min_height": null,
            "padding": null,
            "grid_auto_rows": null,
            "grid_gap": null,
            "max_width": null,
            "order": null,
            "_view_module_version": "1.2.0",
            "grid_template_areas": null,
            "object_position": null,
            "object_fit": null,
            "grid_auto_columns": null,
            "margin": null,
            "display": null,
            "left": null
          }
        },
        "499bcbe621b2484c88917dc1a949db62": {
          "model_module": "@jupyter-widgets/controls",
          "model_name": "FloatProgressModel",
          "state": {
            "_view_name": "ProgressView",
            "style": "IPY_MODEL_9e35e472a1924d50b8cc799aa1f2fd37",
            "_dom_classes": [],
            "description": "",
            "_model_name": "FloatProgressModel",
            "bar_style": "success",
            "max": 9912422,
            "_view_module": "@jupyter-widgets/controls",
            "_model_module_version": "1.5.0",
            "value": 9912422,
            "_view_count": null,
            "_view_module_version": "1.5.0",
            "orientation": "horizontal",
            "min": 0,
            "description_tooltip": null,
            "_model_module": "@jupyter-widgets/controls",
            "layout": "IPY_MODEL_7031bf26d68e4570be8a8331a628c912"
          }
        },
        "59304de251dd4395b7d11526ab2d22a9": {
          "model_module": "@jupyter-widgets/controls",
          "model_name": "HTMLModel",
          "state": {
            "_view_name": "HTMLView",
            "style": "IPY_MODEL_420aea226077431bb3f59781e9f45967",
            "_dom_classes": [],
            "description": "",
            "_model_name": "HTMLModel",
            "placeholder": "​",
            "_view_module": "@jupyter-widgets/controls",
            "_model_module_version": "1.5.0",
            "value": " 9913344/? [00:13&lt;00:00, 744780.13it/s]",
            "_view_count": null,
            "_view_module_version": "1.5.0",
            "description_tooltip": null,
            "_model_module": "@jupyter-widgets/controls",
            "layout": "IPY_MODEL_bac4c0b2d1f24e81a42f012bf6a52db7"
          }
        },
        "9e35e472a1924d50b8cc799aa1f2fd37": {
          "model_module": "@jupyter-widgets/controls",
          "model_name": "ProgressStyleModel",
          "state": {
            "_view_name": "StyleView",
            "_model_name": "ProgressStyleModel",
            "description_width": "initial",
            "_view_module": "@jupyter-widgets/base",
            "_model_module_version": "1.5.0",
            "_view_count": null,
            "_view_module_version": "1.2.0",
            "bar_color": null,
            "_model_module": "@jupyter-widgets/controls"
          }
        },
        "7031bf26d68e4570be8a8331a628c912": {
          "model_module": "@jupyter-widgets/base",
          "model_name": "LayoutModel",
          "state": {
            "_view_name": "LayoutView",
            "grid_template_rows": null,
            "right": null,
            "justify_content": null,
            "_view_module": "@jupyter-widgets/base",
            "overflow": null,
            "_model_module_version": "1.2.0",
            "_view_count": null,
            "flex_flow": null,
            "width": null,
            "min_width": null,
            "border": null,
            "align_items": null,
            "bottom": null,
            "_model_module": "@jupyter-widgets/base",
            "top": null,
            "grid_column": null,
            "overflow_y": null,
            "overflow_x": null,
            "grid_auto_flow": null,
            "grid_area": null,
            "grid_template_columns": null,
            "flex": null,
            "_model_name": "LayoutModel",
            "justify_items": null,
            "grid_row": null,
            "max_height": null,
            "align_content": null,
            "visibility": null,
            "align_self": null,
            "height": null,
            "min_height": null,
            "padding": null,
            "grid_auto_rows": null,
            "grid_gap": null,
            "max_width": null,
            "order": null,
            "_view_module_version": "1.2.0",
            "grid_template_areas": null,
            "object_position": null,
            "object_fit": null,
            "grid_auto_columns": null,
            "margin": null,
            "display": null,
            "left": null
          }
        },
        "420aea226077431bb3f59781e9f45967": {
          "model_module": "@jupyter-widgets/controls",
          "model_name": "DescriptionStyleModel",
          "state": {
            "_view_name": "StyleView",
            "_model_name": "DescriptionStyleModel",
            "description_width": "",
            "_view_module": "@jupyter-widgets/base",
            "_model_module_version": "1.5.0",
            "_view_count": null,
            "_view_module_version": "1.2.0",
            "_model_module": "@jupyter-widgets/controls"
          }
        },
        "bac4c0b2d1f24e81a42f012bf6a52db7": {
          "model_module": "@jupyter-widgets/base",
          "model_name": "LayoutModel",
          "state": {
            "_view_name": "LayoutView",
            "grid_template_rows": null,
            "right": null,
            "justify_content": null,
            "_view_module": "@jupyter-widgets/base",
            "overflow": null,
            "_model_module_version": "1.2.0",
            "_view_count": null,
            "flex_flow": null,
            "width": null,
            "min_width": null,
            "border": null,
            "align_items": null,
            "bottom": null,
            "_model_module": "@jupyter-widgets/base",
            "top": null,
            "grid_column": null,
            "overflow_y": null,
            "overflow_x": null,
            "grid_auto_flow": null,
            "grid_area": null,
            "grid_template_columns": null,
            "flex": null,
            "_model_name": "LayoutModel",
            "justify_items": null,
            "grid_row": null,
            "max_height": null,
            "align_content": null,
            "visibility": null,
            "align_self": null,
            "height": null,
            "min_height": null,
            "padding": null,
            "grid_auto_rows": null,
            "grid_gap": null,
            "max_width": null,
            "order": null,
            "_view_module_version": "1.2.0",
            "grid_template_areas": null,
            "object_position": null,
            "object_fit": null,
            "grid_auto_columns": null,
            "margin": null,
            "display": null,
            "left": null
          }
        },
        "213bc258e017449da22248f3db96a927": {
          "model_module": "@jupyter-widgets/controls",
          "model_name": "HBoxModel",
          "state": {
            "_view_name": "HBoxView",
            "_dom_classes": [],
            "_model_name": "HBoxModel",
            "_view_module": "@jupyter-widgets/controls",
            "_model_module_version": "1.5.0",
            "_view_count": null,
            "_view_module_version": "1.5.0",
            "box_style": "",
            "layout": "IPY_MODEL_45323312708b4cbba4bd2f4416d0f465",
            "_model_module": "@jupyter-widgets/controls",
            "children": [
              "IPY_MODEL_2dfaa1a6ad26485b8b4506c8f700e98d",
              "IPY_MODEL_6413413c035e4d4999334d7e48fdd7e4"
            ]
          }
        },
        "45323312708b4cbba4bd2f4416d0f465": {
          "model_module": "@jupyter-widgets/base",
          "model_name": "LayoutModel",
          "state": {
            "_view_name": "LayoutView",
            "grid_template_rows": null,
            "right": null,
            "justify_content": null,
            "_view_module": "@jupyter-widgets/base",
            "overflow": null,
            "_model_module_version": "1.2.0",
            "_view_count": null,
            "flex_flow": null,
            "width": null,
            "min_width": null,
            "border": null,
            "align_items": null,
            "bottom": null,
            "_model_module": "@jupyter-widgets/base",
            "top": null,
            "grid_column": null,
            "overflow_y": null,
            "overflow_x": null,
            "grid_auto_flow": null,
            "grid_area": null,
            "grid_template_columns": null,
            "flex": null,
            "_model_name": "LayoutModel",
            "justify_items": null,
            "grid_row": null,
            "max_height": null,
            "align_content": null,
            "visibility": null,
            "align_self": null,
            "height": null,
            "min_height": null,
            "padding": null,
            "grid_auto_rows": null,
            "grid_gap": null,
            "max_width": null,
            "order": null,
            "_view_module_version": "1.2.0",
            "grid_template_areas": null,
            "object_position": null,
            "object_fit": null,
            "grid_auto_columns": null,
            "margin": null,
            "display": null,
            "left": null
          }
        },
        "2dfaa1a6ad26485b8b4506c8f700e98d": {
          "model_module": "@jupyter-widgets/controls",
          "model_name": "FloatProgressModel",
          "state": {
            "_view_name": "ProgressView",
            "style": "IPY_MODEL_55ded60a645c4d3793b63e60e2b823e2",
            "_dom_classes": [],
            "description": "",
            "_model_name": "FloatProgressModel",
            "bar_style": "success",
            "max": 28881,
            "_view_module": "@jupyter-widgets/controls",
            "_model_module_version": "1.5.0",
            "value": 28881,
            "_view_count": null,
            "_view_module_version": "1.5.0",
            "orientation": "horizontal",
            "min": 0,
            "description_tooltip": null,
            "_model_module": "@jupyter-widgets/controls",
            "layout": "IPY_MODEL_1fcbf5bbac214d7db50acc4832f5ad4e"
          }
        },
        "6413413c035e4d4999334d7e48fdd7e4": {
          "model_module": "@jupyter-widgets/controls",
          "model_name": "HTMLModel",
          "state": {
            "_view_name": "HTMLView",
            "style": "IPY_MODEL_0d1ec94dc3054b45b236bb72e7841f47",
            "_dom_classes": [],
            "description": "",
            "_model_name": "HTMLModel",
            "placeholder": "​",
            "_view_module": "@jupyter-widgets/controls",
            "_model_module_version": "1.5.0",
            "value": " 29696/? [00:00&lt;00:00, 108987.19it/s]",
            "_view_count": null,
            "_view_module_version": "1.5.0",
            "description_tooltip": null,
            "_model_module": "@jupyter-widgets/controls",
            "layout": "IPY_MODEL_4191109bedc046e983bf85456b204c76"
          }
        },
        "55ded60a645c4d3793b63e60e2b823e2": {
          "model_module": "@jupyter-widgets/controls",
          "model_name": "ProgressStyleModel",
          "state": {
            "_view_name": "StyleView",
            "_model_name": "ProgressStyleModel",
            "description_width": "initial",
            "_view_module": "@jupyter-widgets/base",
            "_model_module_version": "1.5.0",
            "_view_count": null,
            "_view_module_version": "1.2.0",
            "bar_color": null,
            "_model_module": "@jupyter-widgets/controls"
          }
        },
        "1fcbf5bbac214d7db50acc4832f5ad4e": {
          "model_module": "@jupyter-widgets/base",
          "model_name": "LayoutModel",
          "state": {
            "_view_name": "LayoutView",
            "grid_template_rows": null,
            "right": null,
            "justify_content": null,
            "_view_module": "@jupyter-widgets/base",
            "overflow": null,
            "_model_module_version": "1.2.0",
            "_view_count": null,
            "flex_flow": null,
            "width": null,
            "min_width": null,
            "border": null,
            "align_items": null,
            "bottom": null,
            "_model_module": "@jupyter-widgets/base",
            "top": null,
            "grid_column": null,
            "overflow_y": null,
            "overflow_x": null,
            "grid_auto_flow": null,
            "grid_area": null,
            "grid_template_columns": null,
            "flex": null,
            "_model_name": "LayoutModel",
            "justify_items": null,
            "grid_row": null,
            "max_height": null,
            "align_content": null,
            "visibility": null,
            "align_self": null,
            "height": null,
            "min_height": null,
            "padding": null,
            "grid_auto_rows": null,
            "grid_gap": null,
            "max_width": null,
            "order": null,
            "_view_module_version": "1.2.0",
            "grid_template_areas": null,
            "object_position": null,
            "object_fit": null,
            "grid_auto_columns": null,
            "margin": null,
            "display": null,
            "left": null
          }
        },
        "0d1ec94dc3054b45b236bb72e7841f47": {
          "model_module": "@jupyter-widgets/controls",
          "model_name": "DescriptionStyleModel",
          "state": {
            "_view_name": "StyleView",
            "_model_name": "DescriptionStyleModel",
            "description_width": "",
            "_view_module": "@jupyter-widgets/base",
            "_model_module_version": "1.5.0",
            "_view_count": null,
            "_view_module_version": "1.2.0",
            "_model_module": "@jupyter-widgets/controls"
          }
        },
        "4191109bedc046e983bf85456b204c76": {
          "model_module": "@jupyter-widgets/base",
          "model_name": "LayoutModel",
          "state": {
            "_view_name": "LayoutView",
            "grid_template_rows": null,
            "right": null,
            "justify_content": null,
            "_view_module": "@jupyter-widgets/base",
            "overflow": null,
            "_model_module_version": "1.2.0",
            "_view_count": null,
            "flex_flow": null,
            "width": null,
            "min_width": null,
            "border": null,
            "align_items": null,
            "bottom": null,
            "_model_module": "@jupyter-widgets/base",
            "top": null,
            "grid_column": null,
            "overflow_y": null,
            "overflow_x": null,
            "grid_auto_flow": null,
            "grid_area": null,
            "grid_template_columns": null,
            "flex": null,
            "_model_name": "LayoutModel",
            "justify_items": null,
            "grid_row": null,
            "max_height": null,
            "align_content": null,
            "visibility": null,
            "align_self": null,
            "height": null,
            "min_height": null,
            "padding": null,
            "grid_auto_rows": null,
            "grid_gap": null,
            "max_width": null,
            "order": null,
            "_view_module_version": "1.2.0",
            "grid_template_areas": null,
            "object_position": null,
            "object_fit": null,
            "grid_auto_columns": null,
            "margin": null,
            "display": null,
            "left": null
          }
        },
        "c5f7bea43c354ae8b6c6df4b782cfc64": {
          "model_module": "@jupyter-widgets/controls",
          "model_name": "HBoxModel",
          "state": {
            "_view_name": "HBoxView",
            "_dom_classes": [],
            "_model_name": "HBoxModel",
            "_view_module": "@jupyter-widgets/controls",
            "_model_module_version": "1.5.0",
            "_view_count": null,
            "_view_module_version": "1.5.0",
            "box_style": "",
            "layout": "IPY_MODEL_1de0d7d67c384e2da10b97dcbb9969df",
            "_model_module": "@jupyter-widgets/controls",
            "children": [
              "IPY_MODEL_79b55f2ec72b44dab4485051b89d71b3",
              "IPY_MODEL_4a5803ee61db4ffb857199f42b3a37e6"
            ]
          }
        },
        "1de0d7d67c384e2da10b97dcbb9969df": {
          "model_module": "@jupyter-widgets/base",
          "model_name": "LayoutModel",
          "state": {
            "_view_name": "LayoutView",
            "grid_template_rows": null,
            "right": null,
            "justify_content": null,
            "_view_module": "@jupyter-widgets/base",
            "overflow": null,
            "_model_module_version": "1.2.0",
            "_view_count": null,
            "flex_flow": null,
            "width": null,
            "min_width": null,
            "border": null,
            "align_items": null,
            "bottom": null,
            "_model_module": "@jupyter-widgets/base",
            "top": null,
            "grid_column": null,
            "overflow_y": null,
            "overflow_x": null,
            "grid_auto_flow": null,
            "grid_area": null,
            "grid_template_columns": null,
            "flex": null,
            "_model_name": "LayoutModel",
            "justify_items": null,
            "grid_row": null,
            "max_height": null,
            "align_content": null,
            "visibility": null,
            "align_self": null,
            "height": null,
            "min_height": null,
            "padding": null,
            "grid_auto_rows": null,
            "grid_gap": null,
            "max_width": null,
            "order": null,
            "_view_module_version": "1.2.0",
            "grid_template_areas": null,
            "object_position": null,
            "object_fit": null,
            "grid_auto_columns": null,
            "margin": null,
            "display": null,
            "left": null
          }
        },
        "79b55f2ec72b44dab4485051b89d71b3": {
          "model_module": "@jupyter-widgets/controls",
          "model_name": "FloatProgressModel",
          "state": {
            "_view_name": "ProgressView",
            "style": "IPY_MODEL_6e4c031896424155b6c3dacabba99695",
            "_dom_classes": [],
            "description": "",
            "_model_name": "FloatProgressModel",
            "bar_style": "success",
            "max": 1648877,
            "_view_module": "@jupyter-widgets/controls",
            "_model_module_version": "1.5.0",
            "value": 1648877,
            "_view_count": null,
            "_view_module_version": "1.5.0",
            "orientation": "horizontal",
            "min": 0,
            "description_tooltip": null,
            "_model_module": "@jupyter-widgets/controls",
            "layout": "IPY_MODEL_0eee8971222a41cc98f3ff9eb96628a6"
          }
        },
        "4a5803ee61db4ffb857199f42b3a37e6": {
          "model_module": "@jupyter-widgets/controls",
          "model_name": "HTMLModel",
          "state": {
            "_view_name": "HTMLView",
            "style": "IPY_MODEL_dbbde577c0ee46c888ccd2f8a8e67402",
            "_dom_classes": [],
            "description": "",
            "_model_name": "HTMLModel",
            "placeholder": "​",
            "_view_module": "@jupyter-widgets/controls",
            "_model_module_version": "1.5.0",
            "value": " 1649664/? [00:12&lt;00:00, 132373.15it/s]",
            "_view_count": null,
            "_view_module_version": "1.5.0",
            "description_tooltip": null,
            "_model_module": "@jupyter-widgets/controls",
            "layout": "IPY_MODEL_20ecdb856b9d4261a5fcbdbb858a5461"
          }
        },
        "6e4c031896424155b6c3dacabba99695": {
          "model_module": "@jupyter-widgets/controls",
          "model_name": "ProgressStyleModel",
          "state": {
            "_view_name": "StyleView",
            "_model_name": "ProgressStyleModel",
            "description_width": "initial",
            "_view_module": "@jupyter-widgets/base",
            "_model_module_version": "1.5.0",
            "_view_count": null,
            "_view_module_version": "1.2.0",
            "bar_color": null,
            "_model_module": "@jupyter-widgets/controls"
          }
        },
        "0eee8971222a41cc98f3ff9eb96628a6": {
          "model_module": "@jupyter-widgets/base",
          "model_name": "LayoutModel",
          "state": {
            "_view_name": "LayoutView",
            "grid_template_rows": null,
            "right": null,
            "justify_content": null,
            "_view_module": "@jupyter-widgets/base",
            "overflow": null,
            "_model_module_version": "1.2.0",
            "_view_count": null,
            "flex_flow": null,
            "width": null,
            "min_width": null,
            "border": null,
            "align_items": null,
            "bottom": null,
            "_model_module": "@jupyter-widgets/base",
            "top": null,
            "grid_column": null,
            "overflow_y": null,
            "overflow_x": null,
            "grid_auto_flow": null,
            "grid_area": null,
            "grid_template_columns": null,
            "flex": null,
            "_model_name": "LayoutModel",
            "justify_items": null,
            "grid_row": null,
            "max_height": null,
            "align_content": null,
            "visibility": null,
            "align_self": null,
            "height": null,
            "min_height": null,
            "padding": null,
            "grid_auto_rows": null,
            "grid_gap": null,
            "max_width": null,
            "order": null,
            "_view_module_version": "1.2.0",
            "grid_template_areas": null,
            "object_position": null,
            "object_fit": null,
            "grid_auto_columns": null,
            "margin": null,
            "display": null,
            "left": null
          }
        },
        "dbbde577c0ee46c888ccd2f8a8e67402": {
          "model_module": "@jupyter-widgets/controls",
          "model_name": "DescriptionStyleModel",
          "state": {
            "_view_name": "StyleView",
            "_model_name": "DescriptionStyleModel",
            "description_width": "",
            "_view_module": "@jupyter-widgets/base",
            "_model_module_version": "1.5.0",
            "_view_count": null,
            "_view_module_version": "1.2.0",
            "_model_module": "@jupyter-widgets/controls"
          }
        },
        "20ecdb856b9d4261a5fcbdbb858a5461": {
          "model_module": "@jupyter-widgets/base",
          "model_name": "LayoutModel",
          "state": {
            "_view_name": "LayoutView",
            "grid_template_rows": null,
            "right": null,
            "justify_content": null,
            "_view_module": "@jupyter-widgets/base",
            "overflow": null,
            "_model_module_version": "1.2.0",
            "_view_count": null,
            "flex_flow": null,
            "width": null,
            "min_width": null,
            "border": null,
            "align_items": null,
            "bottom": null,
            "_model_module": "@jupyter-widgets/base",
            "top": null,
            "grid_column": null,
            "overflow_y": null,
            "overflow_x": null,
            "grid_auto_flow": null,
            "grid_area": null,
            "grid_template_columns": null,
            "flex": null,
            "_model_name": "LayoutModel",
            "justify_items": null,
            "grid_row": null,
            "max_height": null,
            "align_content": null,
            "visibility": null,
            "align_self": null,
            "height": null,
            "min_height": null,
            "padding": null,
            "grid_auto_rows": null,
            "grid_gap": null,
            "max_width": null,
            "order": null,
            "_view_module_version": "1.2.0",
            "grid_template_areas": null,
            "object_position": null,
            "object_fit": null,
            "grid_auto_columns": null,
            "margin": null,
            "display": null,
            "left": null
          }
        },
        "8b8344b292ca400e8fc79f619cc56e2b": {
          "model_module": "@jupyter-widgets/controls",
          "model_name": "HBoxModel",
          "state": {
            "_view_name": "HBoxView",
            "_dom_classes": [],
            "_model_name": "HBoxModel",
            "_view_module": "@jupyter-widgets/controls",
            "_model_module_version": "1.5.0",
            "_view_count": null,
            "_view_module_version": "1.5.0",
            "box_style": "",
            "layout": "IPY_MODEL_caa7e8a0b0eb4521bbad8b09bc91c6e8",
            "_model_module": "@jupyter-widgets/controls",
            "children": [
              "IPY_MODEL_330a41d8d6b94c43949f28f1e075107f",
              "IPY_MODEL_058fb4ea0f1c4f19823cc78d39450fad"
            ]
          }
        },
        "caa7e8a0b0eb4521bbad8b09bc91c6e8": {
          "model_module": "@jupyter-widgets/base",
          "model_name": "LayoutModel",
          "state": {
            "_view_name": "LayoutView",
            "grid_template_rows": null,
            "right": null,
            "justify_content": null,
            "_view_module": "@jupyter-widgets/base",
            "overflow": null,
            "_model_module_version": "1.2.0",
            "_view_count": null,
            "flex_flow": null,
            "width": null,
            "min_width": null,
            "border": null,
            "align_items": null,
            "bottom": null,
            "_model_module": "@jupyter-widgets/base",
            "top": null,
            "grid_column": null,
            "overflow_y": null,
            "overflow_x": null,
            "grid_auto_flow": null,
            "grid_area": null,
            "grid_template_columns": null,
            "flex": null,
            "_model_name": "LayoutModel",
            "justify_items": null,
            "grid_row": null,
            "max_height": null,
            "align_content": null,
            "visibility": null,
            "align_self": null,
            "height": null,
            "min_height": null,
            "padding": null,
            "grid_auto_rows": null,
            "grid_gap": null,
            "max_width": null,
            "order": null,
            "_view_module_version": "1.2.0",
            "grid_template_areas": null,
            "object_position": null,
            "object_fit": null,
            "grid_auto_columns": null,
            "margin": null,
            "display": null,
            "left": null
          }
        },
        "330a41d8d6b94c43949f28f1e075107f": {
          "model_module": "@jupyter-widgets/controls",
          "model_name": "FloatProgressModel",
          "state": {
            "_view_name": "ProgressView",
            "style": "IPY_MODEL_aee9b1f0a2284d04a03c71addda32423",
            "_dom_classes": [],
            "description": "",
            "_model_name": "FloatProgressModel",
            "bar_style": "success",
            "max": 4542,
            "_view_module": "@jupyter-widgets/controls",
            "_model_module_version": "1.5.0",
            "value": 4542,
            "_view_count": null,
            "_view_module_version": "1.5.0",
            "orientation": "horizontal",
            "min": 0,
            "description_tooltip": null,
            "_model_module": "@jupyter-widgets/controls",
            "layout": "IPY_MODEL_ee39df456e524e81ac6f758c4488f683"
          }
        },
        "058fb4ea0f1c4f19823cc78d39450fad": {
          "model_module": "@jupyter-widgets/controls",
          "model_name": "HTMLModel",
          "state": {
            "_view_name": "HTMLView",
            "style": "IPY_MODEL_5454be1e54bf45899728906606382df0",
            "_dom_classes": [],
            "description": "",
            "_model_name": "HTMLModel",
            "placeholder": "​",
            "_view_module": "@jupyter-widgets/controls",
            "_model_module_version": "1.5.0",
            "value": " 5120/? [00:07&lt;00:00, 714.36it/s]",
            "_view_count": null,
            "_view_module_version": "1.5.0",
            "description_tooltip": null,
            "_model_module": "@jupyter-widgets/controls",
            "layout": "IPY_MODEL_d8930f03a79947ff8981dff26a80dcb5"
          }
        },
        "aee9b1f0a2284d04a03c71addda32423": {
          "model_module": "@jupyter-widgets/controls",
          "model_name": "ProgressStyleModel",
          "state": {
            "_view_name": "StyleView",
            "_model_name": "ProgressStyleModel",
            "description_width": "initial",
            "_view_module": "@jupyter-widgets/base",
            "_model_module_version": "1.5.0",
            "_view_count": null,
            "_view_module_version": "1.2.0",
            "bar_color": null,
            "_model_module": "@jupyter-widgets/controls"
          }
        },
        "ee39df456e524e81ac6f758c4488f683": {
          "model_module": "@jupyter-widgets/base",
          "model_name": "LayoutModel",
          "state": {
            "_view_name": "LayoutView",
            "grid_template_rows": null,
            "right": null,
            "justify_content": null,
            "_view_module": "@jupyter-widgets/base",
            "overflow": null,
            "_model_module_version": "1.2.0",
            "_view_count": null,
            "flex_flow": null,
            "width": null,
            "min_width": null,
            "border": null,
            "align_items": null,
            "bottom": null,
            "_model_module": "@jupyter-widgets/base",
            "top": null,
            "grid_column": null,
            "overflow_y": null,
            "overflow_x": null,
            "grid_auto_flow": null,
            "grid_area": null,
            "grid_template_columns": null,
            "flex": null,
            "_model_name": "LayoutModel",
            "justify_items": null,
            "grid_row": null,
            "max_height": null,
            "align_content": null,
            "visibility": null,
            "align_self": null,
            "height": null,
            "min_height": null,
            "padding": null,
            "grid_auto_rows": null,
            "grid_gap": null,
            "max_width": null,
            "order": null,
            "_view_module_version": "1.2.0",
            "grid_template_areas": null,
            "object_position": null,
            "object_fit": null,
            "grid_auto_columns": null,
            "margin": null,
            "display": null,
            "left": null
          }
        },
        "5454be1e54bf45899728906606382df0": {
          "model_module": "@jupyter-widgets/controls",
          "model_name": "DescriptionStyleModel",
          "state": {
            "_view_name": "StyleView",
            "_model_name": "DescriptionStyleModel",
            "description_width": "",
            "_view_module": "@jupyter-widgets/base",
            "_model_module_version": "1.5.0",
            "_view_count": null,
            "_view_module_version": "1.2.0",
            "_model_module": "@jupyter-widgets/controls"
          }
        },
        "d8930f03a79947ff8981dff26a80dcb5": {
          "model_module": "@jupyter-widgets/base",
          "model_name": "LayoutModel",
          "state": {
            "_view_name": "LayoutView",
            "grid_template_rows": null,
            "right": null,
            "justify_content": null,
            "_view_module": "@jupyter-widgets/base",
            "overflow": null,
            "_model_module_version": "1.2.0",
            "_view_count": null,
            "flex_flow": null,
            "width": null,
            "min_width": null,
            "border": null,
            "align_items": null,
            "bottom": null,
            "_model_module": "@jupyter-widgets/base",
            "top": null,
            "grid_column": null,
            "overflow_y": null,
            "overflow_x": null,
            "grid_auto_flow": null,
            "grid_area": null,
            "grid_template_columns": null,
            "flex": null,
            "_model_name": "LayoutModel",
            "justify_items": null,
            "grid_row": null,
            "max_height": null,
            "align_content": null,
            "visibility": null,
            "align_self": null,
            "height": null,
            "min_height": null,
            "padding": null,
            "grid_auto_rows": null,
            "grid_gap": null,
            "max_width": null,
            "order": null,
            "_view_module_version": "1.2.0",
            "grid_template_areas": null,
            "object_position": null,
            "object_fit": null,
            "grid_auto_columns": null,
            "margin": null,
            "display": null,
            "left": null
          }
        }
      }
    }
  },
  "cells": [
    {
      "cell_type": "markdown",
      "metadata": {
        "id": "LxVnVHpDDyyj"
      },
      "source": [
        "# Imports"
      ]
    },
    {
      "cell_type": "code",
      "metadata": {
        "id": "0V7y8MCxqR1B"
      },
      "source": [
        "import torch\n",
        "import torchvision # torch package for vision related things\n",
        "import torch.nn.functional as F  # Parameterless functions, like (some) activation functions\n",
        "import torchvision.datasets as datasets  # Standard datasets\n",
        "import torchvision.transforms as transforms  # Transformations we can perform on our dataset for augmentation\n",
        "from torch import optim  # For optimizers like SGD, Adam, etc.\n",
        "from torch import nn  # All neural network modules\n",
        "from torch.utils.data import DataLoader  # Gives easier dataset managment by creating mini batches etc.\n",
        "from tqdm import tqdm  # For nice progress bar!\n",
        "import timeit\n",
        "import numpy as np\n",
        "import matplotlib.pyplot as plt\n",
        "import random\n",
        "import tensorflow as tf"
      ],
      "execution_count": 1,
      "outputs": []
    },
    {
      "cell_type": "markdown",
      "metadata": {
        "id": "cA32Iu7sDyyu"
      },
      "source": [
        "# Load Data"
      ]
    },
    {
      "cell_type": "code",
      "metadata": {
        "id": "hewls-ADql1X",
        "colab": {
          "base_uri": "https://localhost:8080/",
          "height": 860,
          "referenced_widgets": [
            "8daf118659a747f2934b1df999bc6314",
            "940feccb78834657aa8222e9abf6ec9f",
            "499bcbe621b2484c88917dc1a949db62",
            "59304de251dd4395b7d11526ab2d22a9",
            "9e35e472a1924d50b8cc799aa1f2fd37",
            "7031bf26d68e4570be8a8331a628c912",
            "420aea226077431bb3f59781e9f45967",
            "bac4c0b2d1f24e81a42f012bf6a52db7",
            "213bc258e017449da22248f3db96a927",
            "45323312708b4cbba4bd2f4416d0f465",
            "2dfaa1a6ad26485b8b4506c8f700e98d",
            "6413413c035e4d4999334d7e48fdd7e4",
            "55ded60a645c4d3793b63e60e2b823e2",
            "1fcbf5bbac214d7db50acc4832f5ad4e",
            "0d1ec94dc3054b45b236bb72e7841f47",
            "4191109bedc046e983bf85456b204c76",
            "c5f7bea43c354ae8b6c6df4b782cfc64",
            "1de0d7d67c384e2da10b97dcbb9969df",
            "79b55f2ec72b44dab4485051b89d71b3",
            "4a5803ee61db4ffb857199f42b3a37e6",
            "6e4c031896424155b6c3dacabba99695",
            "0eee8971222a41cc98f3ff9eb96628a6",
            "dbbde577c0ee46c888ccd2f8a8e67402",
            "20ecdb856b9d4261a5fcbdbb858a5461",
            "8b8344b292ca400e8fc79f619cc56e2b",
            "caa7e8a0b0eb4521bbad8b09bc91c6e8",
            "330a41d8d6b94c43949f28f1e075107f",
            "058fb4ea0f1c4f19823cc78d39450fad",
            "aee9b1f0a2284d04a03c71addda32423",
            "ee39df456e524e81ac6f758c4488f683",
            "5454be1e54bf45899728906606382df0",
            "d8930f03a79947ff8981dff26a80dcb5"
          ]
        },
        "outputId": "23776e26-cc7f-4882-a4b7-7ddbc437e8a4"
      },
      "source": [
        "# Load Training and Test data\n",
        "train_dataset = datasets.MNIST(root=\"dataset/\", train=True, transform=transforms.ToTensor(), download=True)\n",
        "test_dataset = datasets.MNIST(root=\"dataset/\", train=False, transform=transforms.ToTensor(), download=True)\n",
        "#train_loader = DataLoader(dataset=train_dataset, batch_size=batch_size, shuffle=True)\n",
        "#test_loader = DataLoader(dataset=test_dataset, batch_size=batch_size, shuffle=True)"
      ],
      "execution_count": 2,
      "outputs": [
        {
          "output_type": "stream",
          "text": [
            "Downloading http://yann.lecun.com/exdb/mnist/train-images-idx3-ubyte.gz\n",
            "Failed to download (trying next):\n",
            "HTTP Error 503: Service Unavailable\n",
            "\n",
            "Downloading https://ossci-datasets.s3.amazonaws.com/mnist/train-images-idx3-ubyte.gz\n",
            "Downloading https://ossci-datasets.s3.amazonaws.com/mnist/train-images-idx3-ubyte.gz to dataset/MNIST/raw/train-images-idx3-ubyte.gz\n"
          ],
          "name": "stdout"
        },
        {
          "output_type": "display_data",
          "data": {
            "application/vnd.jupyter.widget-view+json": {
              "model_id": "8daf118659a747f2934b1df999bc6314",
              "version_minor": 0,
              "version_major": 2
            },
            "text/plain": [
              "HBox(children=(FloatProgress(value=0.0, max=9912422.0), HTML(value='')))"
            ]
          },
          "metadata": {
            "tags": []
          }
        },
        {
          "output_type": "stream",
          "text": [
            "\n",
            "Extracting dataset/MNIST/raw/train-images-idx3-ubyte.gz to dataset/MNIST/raw\n",
            "\n",
            "Downloading http://yann.lecun.com/exdb/mnist/train-labels-idx1-ubyte.gz\n",
            "Failed to download (trying next):\n",
            "HTTP Error 503: Service Unavailable\n",
            "\n",
            "Downloading https://ossci-datasets.s3.amazonaws.com/mnist/train-labels-idx1-ubyte.gz\n",
            "Downloading https://ossci-datasets.s3.amazonaws.com/mnist/train-labels-idx1-ubyte.gz to dataset/MNIST/raw/train-labels-idx1-ubyte.gz\n"
          ],
          "name": "stdout"
        },
        {
          "output_type": "display_data",
          "data": {
            "application/vnd.jupyter.widget-view+json": {
              "model_id": "213bc258e017449da22248f3db96a927",
              "version_minor": 0,
              "version_major": 2
            },
            "text/plain": [
              "HBox(children=(FloatProgress(value=0.0, max=28881.0), HTML(value='')))"
            ]
          },
          "metadata": {
            "tags": []
          }
        },
        {
          "output_type": "stream",
          "text": [
            "\n",
            "Extracting dataset/MNIST/raw/train-labels-idx1-ubyte.gz to dataset/MNIST/raw\n",
            "\n",
            "Downloading http://yann.lecun.com/exdb/mnist/t10k-images-idx3-ubyte.gz\n",
            "Failed to download (trying next):\n",
            "HTTP Error 503: Service Unavailable\n",
            "\n",
            "Downloading https://ossci-datasets.s3.amazonaws.com/mnist/t10k-images-idx3-ubyte.gz\n",
            "Downloading https://ossci-datasets.s3.amazonaws.com/mnist/t10k-images-idx3-ubyte.gz to dataset/MNIST/raw/t10k-images-idx3-ubyte.gz\n"
          ],
          "name": "stdout"
        },
        {
          "output_type": "display_data",
          "data": {
            "application/vnd.jupyter.widget-view+json": {
              "model_id": "c5f7bea43c354ae8b6c6df4b782cfc64",
              "version_minor": 0,
              "version_major": 2
            },
            "text/plain": [
              "HBox(children=(FloatProgress(value=0.0, max=1648877.0), HTML(value='')))"
            ]
          },
          "metadata": {
            "tags": []
          }
        },
        {
          "output_type": "stream",
          "text": [
            "\n",
            "Extracting dataset/MNIST/raw/t10k-images-idx3-ubyte.gz to dataset/MNIST/raw\n",
            "\n",
            "Downloading http://yann.lecun.com/exdb/mnist/t10k-labels-idx1-ubyte.gz\n",
            "Failed to download (trying next):\n",
            "HTTP Error 503: Service Unavailable\n",
            "\n",
            "Downloading https://ossci-datasets.s3.amazonaws.com/mnist/t10k-labels-idx1-ubyte.gz\n",
            "Downloading https://ossci-datasets.s3.amazonaws.com/mnist/t10k-labels-idx1-ubyte.gz to dataset/MNIST/raw/t10k-labels-idx1-ubyte.gz\n"
          ],
          "name": "stdout"
        },
        {
          "output_type": "display_data",
          "data": {
            "application/vnd.jupyter.widget-view+json": {
              "model_id": "8b8344b292ca400e8fc79f619cc56e2b",
              "version_minor": 0,
              "version_major": 2
            },
            "text/plain": [
              "HBox(children=(FloatProgress(value=0.0, max=4542.0), HTML(value='')))"
            ]
          },
          "metadata": {
            "tags": []
          }
        },
        {
          "output_type": "stream",
          "text": [
            "\n",
            "Extracting dataset/MNIST/raw/t10k-labels-idx1-ubyte.gz to dataset/MNIST/raw\n",
            "\n",
            "Processing...\n",
            "Done!\n"
          ],
          "name": "stdout"
        },
        {
          "output_type": "stream",
          "text": [
            "/usr/local/lib/python3.7/dist-packages/torchvision/datasets/mnist.py:502: UserWarning: The given NumPy array is not writeable, and PyTorch does not support non-writeable tensors. This means you can write to the underlying (supposedly non-writeable) NumPy array using the tensor. You may want to copy the array to protect its data or make it writeable before converting it to a tensor. This type of warning will be suppressed for the rest of this program. (Triggered internally at  /pytorch/torch/csrc/utils/tensor_numpy.cpp:143.)\n",
            "  return torch.from_numpy(parsed.astype(m[2], copy=False)).view(*s)\n"
          ],
          "name": "stderr"
        }
      ]
    },
    {
      "cell_type": "code",
      "metadata": {
        "colab": {
          "base_uri": "https://localhost:8080/"
        },
        "id": "NKXUF31sqqub",
        "outputId": "5cad53cd-1675-4375-ad41-3e116e28f8ef"
      },
      "source": [
        "print(type(train_dataset))\n",
        "print(train_dataset)"
      ],
      "execution_count": 3,
      "outputs": [
        {
          "output_type": "stream",
          "text": [
            "<class 'torchvision.datasets.mnist.MNIST'>\n",
            "Dataset MNIST\n",
            "    Number of datapoints: 60000\n",
            "    Root location: dataset/\n",
            "    Split: Train\n",
            "    StandardTransform\n",
            "Transform: ToTensor()\n"
          ],
          "name": "stdout"
        }
      ]
    },
    {
      "cell_type": "code",
      "metadata": {
        "id": "4iypLgLjqup1"
      },
      "source": [
        "for x,y in train_dataset:\n",
        "  #print(x.shape,y, type(x))\n",
        "  x = x[:,:,:14]\n",
        "  #break"
      ],
      "execution_count": 4,
      "outputs": []
    },
    {
      "cell_type": "code",
      "metadata": {
        "colab": {
          "base_uri": "https://localhost:8080/"
        },
        "id": "tH2dRM5urZQQ",
        "outputId": "dfa22416-53b7-4f4b-b505-76c6a77fb034"
      },
      "source": [
        "for x,y in train_dataset:\n",
        "  print(x.shape,y, type(x))\n",
        "  #x = x[:,:,:14]\n",
        "  break"
      ],
      "execution_count": 5,
      "outputs": [
        {
          "output_type": "stream",
          "text": [
            "torch.Size([1, 28, 28]) 5 <class 'torch.Tensor'>\n"
          ],
          "name": "stdout"
        }
      ]
    },
    {
      "cell_type": "code",
      "metadata": {
        "colab": {
          "base_uri": "https://localhost:8080/"
        },
        "id": "q4gDyBFurdoQ",
        "scrolled": true,
        "outputId": "ec34a873-f9b5-48c9-dc2c-a7ccc24b1e7c"
      },
      "source": [
        "train_dataset"
      ],
      "execution_count": 6,
      "outputs": [
        {
          "output_type": "execute_result",
          "data": {
            "text/plain": [
              "Dataset MNIST\n",
              "    Number of datapoints: 60000\n",
              "    Root location: dataset/\n",
              "    Split: Train\n",
              "    StandardTransform\n",
              "Transform: ToTensor()"
            ]
          },
          "metadata": {
            "tags": []
          },
          "execution_count": 6
        }
      ]
    },
    {
      "cell_type": "code",
      "metadata": {
        "colab": {
          "base_uri": "https://localhost:8080/"
        },
        "id": "gk3Ny968t39V",
        "outputId": "2f46d1d4-b15d-43ae-99a0-91ada5778be3"
      },
      "source": [
        "(x_train, y_train), (x_test, y_test) = tf.keras.datasets.mnist.load_data(path=\"mnist.npz\")"
      ],
      "execution_count": 7,
      "outputs": [
        {
          "output_type": "stream",
          "text": [
            "Downloading data from https://storage.googleapis.com/tensorflow/tf-keras-datasets/mnist.npz\n",
            "11493376/11490434 [==============================] - 0s 0us/step\n"
          ],
          "name": "stdout"
        }
      ]
    },
    {
      "cell_type": "code",
      "metadata": {
        "colab": {
          "base_uri": "https://localhost:8080/"
        },
        "id": "anHZOcRwt6dn",
        "outputId": "6010d582-ba7e-424a-d370-52d10967a870"
      },
      "source": [
        "x_train.shape"
      ],
      "execution_count": 8,
      "outputs": [
        {
          "output_type": "execute_result",
          "data": {
            "text/plain": [
              "(60000, 28, 28)"
            ]
          },
          "metadata": {
            "tags": []
          },
          "execution_count": 8
        }
      ]
    },
    {
      "cell_type": "markdown",
      "metadata": {
        "id": "_Vq-rmSPDyyz"
      },
      "source": [
        "# Construct left and right view of images"
      ]
    },
    {
      "cell_type": "code",
      "metadata": {
        "colab": {
          "base_uri": "https://localhost:8080/",
          "height": 282
        },
        "id": "U28rHBIjuC2K",
        "outputId": "b1a7edf7-45bc-4539-ef0e-eef6129766c9"
      },
      "source": [
        "left_imgs = np.zeros((60000,28,14))\n",
        "right_imgs = np.zeros((60000,28,14))\n",
        "\n",
        "for idx, img in enumerate(x_train):\n",
        "    left_imgs[idx] = img[:,:14]\n",
        "    right_imgs[idx] = img[:,14:]\n",
        "\n",
        "\n",
        "plt.imshow(right_imgs[0])\n",
        "plt.show()\n",
        "print(left_imgs.shape)"
      ],
      "execution_count": 9,
      "outputs": [
        {
          "output_type": "display_data",
          "data": {
            "image/png": "[encoded data removed]",
            "text/plain": [
              "<Figure size 432x288 with 1 Axes>"
            ]
          },
          "metadata": {
            "tags": [],
            "needs_background": "light"
          }
        },
        {
          "output_type": "stream",
          "text": [
            "(60000, 28, 14)\n"
          ],
          "name": "stdout"
        }
      ]
    },
    {
      "cell_type": "markdown",
      "metadata": {
        "id": "x2bOkuTV0rFP"
      },
      "source": [
        "## Making left and right view of images and appending as a tuple in data list"
      ]
    },
    {
      "cell_type": "code",
      "metadata": {
        "colab": {
          "base_uri": "https://localhost:8080/"
        },
        "id": "HQra2Js6vIic",
        "outputId": "05d12e1a-0dfa-424f-b335-1915d1238232"
      },
      "source": [
        "data = []\n",
        "\n",
        "for idx, img in enumerate(x_train):\n",
        "  left = img[:,:14]\n",
        "  right = img[:,14:]\n",
        "  data.append((left,right))\n",
        "\n",
        "data = np.array(data)\n",
        "print(data.shape)"
      ],
      "execution_count": 10,
      "outputs": [
        {
          "output_type": "stream",
          "text": [
            "(60000, 2, 28, 14)\n"
          ],
          "name": "stdout"
        }
      ]
    },
    {
      "cell_type": "markdown",
      "metadata": {
        "id": "gSg62fsS0yuh"
      },
      "source": [
        "# Converting left-right tuple list to torch.tensor"
      ]
    },
    {
      "cell_type": "code",
      "metadata": {
        "colab": {
          "base_uri": "https://localhost:8080/"
        },
        "id": "_q2aC9KMvr2s",
        "outputId": "9a6b7ded-e47f-4d4e-b2a5-55297b095cb5"
      },
      "source": [
        "X = torch.tensor(data)\n",
        "X.shape"
      ],
      "execution_count": 11,
      "outputs": [
        {
          "output_type": "execute_result",
          "data": {
            "text/plain": [
              "torch.Size([60000, 2, 28, 14])"
            ]
          },
          "metadata": {
            "tags": []
          },
          "execution_count": 11
        }
      ]
    },
    {
      "cell_type": "markdown",
      "metadata": {
        "id": "PCZR4EHR07WD"
      },
      "source": [
        "# Data loader for above tensor"
      ]
    },
    {
      "cell_type": "code",
      "metadata": {
        "id": "6ZJDk_66vr4a"
      },
      "source": [
        "train_loader = DataLoader(dataset=X, batch_size=64, shuffle=True)"
      ],
      "execution_count": 12,
      "outputs": []
    },
    {
      "cell_type": "code",
      "metadata": {
        "colab": {
          "base_uri": "https://localhost:8080/"
        },
        "id": "RT2F4iLIv-43",
        "outputId": "6152a736-f34d-4957-e31c-8eeeb82829f4"
      },
      "source": [
        "for x in train_loader:\n",
        "    print(x.shape)\n",
        "    x = x.reshape(64,1,2,28,14)\n",
        "    print(x.shape)\n",
        "    break"
      ],
      "execution_count": 13,
      "outputs": [
        {
          "output_type": "stream",
          "text": [
            "torch.Size([64, 2, 28, 14])\n",
            "torch.Size([64, 1, 2, 28, 14])\n"
          ],
          "name": "stdout"
        }
      ]
    },
    {
      "cell_type": "code",
      "metadata": {
        "colab": {
          "base_uri": "https://localhost:8080/"
        },
        "id": "D3It8GQgv-60",
        "outputId": "dd057948-4e4e-4720-e37f-69511ea7a92d"
      },
      "source": [
        "type(train_loader)"
      ],
      "execution_count": 14,
      "outputs": [
        {
          "output_type": "execute_result",
          "data": {
            "text/plain": [
              "torch.utils.data.dataloader.DataLoader"
            ]
          },
          "metadata": {
            "tags": []
          },
          "execution_count": 14
        }
      ]
    },
    {
      "cell_type": "markdown",
      "metadata": {
        "id": "wHCJp6TADyy3"
      },
      "source": [
        "# Autoencoder Model"
      ]
    },
    {
      "cell_type": "markdown",
      "metadata": {
        "id": "E2WDVoVlKq0W"
      },
      "source": [
        "### Feeding  batch of 64 imgs to left half feed and right half feed b4 the merged middle layer in the network\n",
        "\n",
        "64 x 10 dimension output for both ;eft and right img batch as we have 64 imgs and embeddings are of size 10 as of now"
      ]
    },
    {
      "cell_type": "code",
      "metadata": {
        "id": "oPwUpLDw3eca"
      },
      "source": [
        "class NN(nn.Module):\n",
        "    def __init__(self):\n",
        "        super().__init__()        \n",
        "        ### ENCODING\n",
        "        self.convleft1 = nn.Conv2d(1, 8, kernel_size=3, padding=1)\n",
        "        self.poolleft1 = nn.MaxPool2d(2, 2)  # 8*14*7\n",
        "        self.convleft2 = nn.Conv2d(8, 24, kernel_size=3, stride=1, padding=1)\n",
        "        self.poolleft2 = nn.MaxPool2d(2, 2) # 24*7*3\n",
        "        self.fcleft1 = nn.Linear(24*7*3, 64)\n",
        "        self.fcleft2 = nn.Linear(64, 32)\n",
        "        self.fcleft3 = nn.Linear(32, 10)\n",
        "        \n",
        "        self.convright1 = nn.Conv2d(1, 8, kernel_size=3, padding=1)\n",
        "        self.poolright1 = nn.MaxPool2d(2, 2)  # 8*14*7\n",
        "        self.convright2 = nn.Conv2d(8, 24, kernel_size=3, stride=1, padding=1)\n",
        "        self.poolright2 = nn.MaxPool2d(2, 2) # 24*7*3\n",
        "        self.fcright1 = nn.Linear(24*7*3, 64)\n",
        "        self.fcright2 = nn.Linear(64, 32)\n",
        "        self.fcright3 = nn.Linear(32, 10)\n",
        "\n",
        "        ### DECODING\n",
        "        self.linearleft = nn.Linear(20, 392)\n",
        "        self.linearright = nn.Linear(20, 392)\n",
        "        \n",
        "    def feed_left(self, x):\n",
        "        plt.imshow(x[0,0,:,:])\n",
        "        plt.show()\n",
        "\n",
        "    def feed_right(self, x):\n",
        "        plt.imshow(x[0,0,:,:])\n",
        "        plt.show()\n",
        "        \n",
        "    def forward(self, x):\n",
        "        #ENCODING\n",
        "        left = x[:,:,0,:,:]\n",
        "        right = x[:,:,1,:,:]\n",
        "\n",
        "        # print(left.shape, right.shape)\n",
        "        \n",
        "        #  LEFT FIRST HALF\n",
        "        x = F.relu(self.convleft1(left))\n",
        "        x = self.poolleft1(x)\n",
        "        x = F.relu(self.convleft2(x))\n",
        "        x = self.poolleft2(x)\n",
        "        x = x.reshape(64,-1) \n",
        "        hleft1 = F.relu(self.fcleft1(x))\n",
        "        hleft2 = F.relu(self.fcleft2(hleft1))\n",
        "        hleft3 = F.relu(self.fcleft3(hleft2))\n",
        "\n",
        "        # RIGHT FIRST HALF\n",
        "        y = F.relu(self.convright1(right))\n",
        "        y = self.poolright1(y)\n",
        "        y = F.relu(self.convright2(y))\n",
        "        y = self.poolright2(y)\n",
        "        y = y.reshape(64,-1) \n",
        "        hright1 = F.relu(self.fcright1(y))\n",
        "        hright2 = F.relu(self.fcright2(hright1))\n",
        "        hright3 = F.relu(self.fcright3(hright2))\n",
        "        \n",
        "        #MERGE\n",
        "        hcommon = torch.cat((hleft3, hright3), 1)\n",
        "        # print(hcommon.shape)\n",
        "        \n",
        "        #DECODING\n",
        "        recleft = F.relu(self.linearleft(hcommon))\n",
        "        recright = F.relu(self.linearright(hcommon))\n",
        "        \n",
        "        #Here output image is of dimension 392, need to reshape it to 28x14\n",
        "        # print(recleft.shape, recright.shape )\n",
        "        # recleft = recleft.reshape(64, 1, 1, 28, 14)\n",
        "        # recright = recright.reshape(64, 1, 1, 28, 14)\n",
        "        \n",
        "        return(hcommon, recleft, recright, hleft1, hleft2, hright1, hright2)\n",
        "\n",
        "\n",
        "\n",
        "# class NNet(nn.Module):\n",
        "#     def __init__(self):\n",
        "#         super().__init__()        \n",
        "#         ### ENCODING\n",
        "#         self.convleft1 = nn.Conv2d(1, 8, kernel_size=3, padding=1)\n",
        "#         self.poolleft1 = nn.MaxPool2d(2, 2, return_indices=True)  # 8*14*7\n",
        "#         self.convleft2 = nn.Conv2d(8, 24, kernel_size=3, stride=1, padding=1)\n",
        "#         self.poolleft2 = nn.MaxPool2d(2, 2, return_indices=True) # 24*7*3\n",
        "#         self.fcleft1 = nn.Linear(24*7*3, 64)\n",
        "#         self.fcleft2 = nn.Linear(64, 32)\n",
        "#         self.fcleft3 = nn.Linear(32, 10)\n",
        "        \n",
        "#         self.convright1 = nn.Conv2d(1, 8, kernel_size=3, padding=1)\n",
        "#         self.poolright1 = nn.MaxPool2d(2, 2, return_indices=True)  # 8*14*7\n",
        "#         self.convright2 = nn.Conv2d(8, 24, kernel_size=3, stride=1, padding=1)\n",
        "#         self.poolright2 = nn.MaxPool2d(2, 2, return_indices=True) # 24*7*3\n",
        "#         self.fcright1 = nn.Linear(24*7*3, 64)\n",
        "#         self.fcright2 = nn.Linear(64, 32)\n",
        "#         self.fcright3 = nn.Linear(32, 10)\n",
        "\n",
        "#         ### DECODING\n",
        "#         self.linearleft1 = nn.Linear(20, 64)\n",
        "#         self.linearleft2 = nn.Linear(64, 24*7*3)\n",
        "#         self.unpoolleft1 = nn.MaxUnpool2d(2, 2)\n",
        "#         self.deconvleft1 = nn.ConvTranspose2d(24, 8, kernel_size=3, stride=1, padding=1)\n",
        "#         self.unpoolleft2 = nn.MaxUnpool2d(2, 2)\n",
        "#         self.deconvleft2 = nn.ConvTranspose2d(8, 1, kernel_size=3, stride=1, padding=1) \n",
        "#         # self.linearleft = nn.Linear(20, 392)\n",
        "\n",
        "#         self.linearright1 = nn.Linear(20, 64)\n",
        "#         self.linearright2 = nn.Linear(64, 24*7*3)\n",
        "#         self.unpoolright1 = nn.MaxUnpool2d(2, 2)\n",
        "#         self.deconvright1 = nn.ConvTranspose2d(24, 8, kernel_size=3, stride=1, padding=1)\n",
        "#         self.unpoolright2 = nn.MaxUnpool2d(2, 2)\n",
        "#         self.deconvright2 = nn.ConvTranspose2d(8, 1, kernel_size=3, stride=1, padding=1)\n",
        "#         # self.linearright = nn.Linear(20, 392)\n",
        "        \n",
        "#     def feed_left(self, x):\n",
        "#         plt.imshow(x[0,0,:,:])\n",
        "#         plt.show()\n",
        "\n",
        "#     def feed_right(self, x):\n",
        "#         plt.imshow(x[0,0,:,:])\n",
        "#         plt.show()\n",
        "        \n",
        "#     def forward(self, x):\n",
        "#         #ENCODING\n",
        "#         left = x[:,:,0,:,:]\n",
        "#         right = x[:,:,1,:,:]\n",
        "        \n",
        "#         #  LEFT FIRST HALF\n",
        "#         x = F.relu(self.convleft1(left))\n",
        "#         x, left_indices1 = self.poolleft1(x)\n",
        "#         x = F.relu(self.convleft2(x))\n",
        "#         x, left_indices2 = self.poolleft2(x)\n",
        "#         x = x.reshape(64,-1) \n",
        "#         hleft1 = F.relu(self.fcleft1(x))\n",
        "#         hleft2 = F.relu(self.fcleft2(hleft1))\n",
        "#         hleft3 = F.relu(self.fcleft3(hleft2))\n",
        "\n",
        "#         # RIGHT FIRST HALF\n",
        "#         y = F.relu(self.convright1(right))\n",
        "#         y, right_indices1 = self.poolright1(y)\n",
        "#         y = F.relu(self.convright2(y))\n",
        "#         y, right_indices2 = self.poolright2(y)\n",
        "#         y = y.reshape(64,-1) \n",
        "#         hright1 = F.relu(self.fcright1(y))\n",
        "#         hright2 = F.relu(self.fcright2(hright1))\n",
        "#         hright3 = F.relu(self.fcright3(hright2))\n",
        "        \n",
        "#         #MERGE\n",
        "#         hcommon = torch.cat((hleft3, hright3), 1)\n",
        "#         #print(\"hcommon \",hcommon.shape)\n",
        "#         #DECODING\n",
        "#         # recleft = F.relu(self.linearleft(hcommon))\n",
        "#         a = F.relu(self.linearleft1(hcommon))\n",
        "#         a = F.relu(self.linearleft2(a))\n",
        "#         a = self.unpoolleft1(a, left_indices2)\n",
        "#         a = F.relu(self.deconvleft1(a))\n",
        "#         a = self.unpoolleft2(a, left_indices1)\n",
        "#         recleft = F.relu(self.deconvleft2(a))\n",
        "\n",
        "#         # recright = F.relu(self.linearright(hcommon))\n",
        "#         a = F.relu(self.linearright1(hcommon))\n",
        "#         a = F.relu(self.linearright2(a))\n",
        "#         a = self.unpoolright1(a, right_indices2)H\n",
        "#         a = F.relu(self.deconvright1(a))\n",
        "#         a = self.unpoolright2(a, right_indices1)\n",
        "#         recright = F.relu(self.deconvright2(a))\n",
        "\n",
        "#         #Here output image is of dimension 392, need to reshape it to 28x14\n",
        "#         #print(recleft.shape, recright.shape )\n",
        "#         recleft = recleft.reshape(64, 1, 1, 28, 14)\n",
        "#         recright = recright.reshape(64, 1, 1, 28, 14)\n",
        "        \n",
        "#         return(hcommon, recleft, recright, hleft1, hleft2, hright1, hright2)"
      ],
      "execution_count": 15,
      "outputs": []
    },
    {
      "cell_type": "code",
      "metadata": {
        "id": "_VvktlZ1Dyy4"
      },
      "source": [
        "def correlation(h_layers):\n",
        "    lambda_arr = [0.02, 0.001, 0.05]\n",
        "    corr_arr = np.zeros(len(lambda_arr))\n",
        "    for index,pair in enumerate(h_layers):\n",
        "        lmbda = lambda_arr[index]\n",
        "        x=pair[0]\n",
        "        y=pair[1]\n",
        "        \n",
        "        x_mean = torch.mean(x, axis=0)\n",
        "        y_mean = torch.mean(y, axis=0)\n",
        "        x_numerator1 = x-x_mean\n",
        "        y_numerator1 = y-y_mean\n",
        "        \n",
        "        corr_numerator = torch.sum(x_numerator1*y_numerator1, axis=0)\n",
        "        corr_denominator1 = torch.sqrt(torch.sum(x_numerator1*x_numerator1, axis=0) + 1e-8)\n",
        "        corr_denominator2 = torch.sqrt(torch.sum(y_numerator1*y_numerator1, axis=0) + 1e-8)\n",
        "        corr = corr_numerator / (corr_denominator1 * corr_denominator2)\n",
        "        \n",
        "        corr_arr[index] = lmbda*torch.sum(corr)\n",
        "    return np.sum(corr_arr)"
      ],
      "execution_count": 16,
      "outputs": []
    },
    {
      "cell_type": "code",
      "metadata": {
        "id": "HLtxCXtPDyy4"
      },
      "source": [
        "# model = NN()\n",
        "# criterion = nn.MSELoss()\n",
        "# optimizer = nn.optim.Adam(model.parameters(), lr=0.001)"
      ],
      "execution_count": null,
      "outputs": []
    },
    {
      "cell_type": "code",
      "metadata": {
        "id": "37gZT7SQDyy4"
      },
      "source": [
        "# num_epochs=5"
      ],
      "execution_count": null,
      "outputs": []
    },
    {
      "cell_type": "code",
      "metadata": {
        "id": "2zYhpyi0Dyy4"
      },
      "source": [
        "# for i in num_epochs:\n",
        "#     for x in train_loader:\n",
        "#         x = x.reshape(64,1,2,28,14)\n",
        "#         x = x.float()\n",
        "\n",
        "#         left = x[:, :, 0, :, :]\n",
        "#         right = x[:, :,1, :, :]\n",
        "\n",
        "#         templ, tempr = x.detach().clone(), x.detach().clone()\n",
        "#         templ[:, :, 0, :, :]=0\n",
        "#         tempr[:, :, 1, :, :]=0\n",
        "\n",
        "#         h0, left0, right0, hleft_1, hleft_2, hright_1, hright_2 = model(x) #Giving both left and right as input\n",
        "#         h1, left1, right1, _, _, _, _ = model(tempr) #Giving only left as input\n",
        "#         h2, left2, right2, _, _, _, _ = model(templ) #Giving only right as input\n",
        "\n",
        "#         #MSE Loss + Correlation\n",
        "#         loss=criterion(right1, left)+criterion(left2, right)+criterion(left1, left)+criterion(right2, right)-correlation([[h1, h2], [hleft_1, hright_1], [hleft_2, hright_2]])\n",
        "\n",
        "#         optimizer.zero_grad()\n",
        "#         loss.backward()\n",
        "#         optimizer.step()"
      ],
      "execution_count": null,
      "outputs": []
    },
    {
      "cell_type": "code",
      "metadata": {
        "colab": {
          "base_uri": "https://localhost:8080/"
        },
        "id": "ljYvVBmoup9c",
        "outputId": "aedc4b94-8b33-4f22-d87f-852b392bbd82"
      },
      "source": [
        "device = torch.device(\"cuda:0\" if torch.cuda.is_available() else \"cpu\")\n",
        "print(device)"
      ],
      "execution_count": 17,
      "outputs": [
        {
          "output_type": "stream",
          "text": [
            "cuda:0\n"
          ],
          "name": "stdout"
        }
      ]
    },
    {
      "cell_type": "code",
      "metadata": {
        "id": "LJsRmWzmx_ky"
      },
      "source": [
        "def reset_network_params(model):\n",
        "  for layer in model.children():\n",
        "    if hasattr(layer, 'reset_parameters'):\n",
        "        layer.reset_parameters()"
      ],
      "execution_count": 18,
      "outputs": []
    },
    {
      "cell_type": "code",
      "metadata": {
        "id": "b9OcB1WzyFZc"
      },
      "source": [
        "def plot_loss(train_loss, num_epoch):\n",
        "  plt.plot(train_loss, '-ro')\n",
        "  plt.xlabel(\"Epoch\")\n",
        "  plt.ylabel(\"Train loss\")\n",
        "  plt.title(\"Train Loss vs Epoch\")"
      ],
      "execution_count": 19,
      "outputs": []
    },
    {
      "cell_type": "code",
      "metadata": {
        "id": "WyIXDobipY4w"
      },
      "source": [
        "model = NN()\n",
        "model.to(device)\n",
        "criterion = nn.MSELoss()\n",
        "optimizer = optim.Adam(model.parameters(), lr=0.001)"
      ],
      "execution_count": 44,
      "outputs": []
    },
    {
      "cell_type": "code",
      "metadata": {
        "colab": {
          "base_uri": "https://localhost:8080/"
        },
        "id": "QyksuB_Fpd3T",
        "outputId": "fc6170b1-9a84-444a-8183-e9f420a73e05"
      },
      "source": [
        "reset_network_params(model)\n",
        "num_epochs=50\n",
        "train_loss = []\n",
        "for i in tqdm(range(num_epochs)):\n",
        "    j = 0\n",
        "    epoch_loss = 0.0\n",
        "    for x in train_loader:\n",
        "        if (x.shape[0]!=64):\n",
        "            continue\n",
        "        x = x.to(device=device)\n",
        "        x = x.reshape(64,1,2,28,14)\n",
        "        x = x.float()\n",
        "\n",
        "        left = x[:, :, 0, :, :].to(device=device)\n",
        "        right = x[:, :,1, :, :].to(device=device)\n",
        "        # print(left.shape, right.shape)\n",
        "        left = left.reshape(64,1,1,28,14)\n",
        "        right = right.reshape(64,1,1,28,14)\n",
        "        #break\n",
        "        templ, tempr = x.detach().clone(), x.detach().clone()\n",
        "        templ[:, :, 0, :, :]=0\n",
        "        tempr[:, :, 1, :, :]=0\n",
        "        #print(x.shape)\n",
        "        h0, left0, right0, hleft_1, hleft_2, hright_1, hright_2 = model(x) #Giving both left and right as input\n",
        "        left0 = left0.reshape(64,1,1,28,14)\n",
        "        right0 = right0.reshape(64,1,1,28,14)\n",
        "        h1, left1, right1, _, _, _, _ = model(tempr) #Giving only left as input\n",
        "        h2, left2, right2, _, _, _, _ = model(templ) #Giving only right as input\n",
        "        left1 = left1.reshape(64,1,1,28,14)\n",
        "        right2 = right2.reshape(64,1,1,28,14)\n",
        "        left2 = left2.reshape(64,1,1,28,14)\n",
        "        right1 = right1.reshape(64,1,1,28,14)\n",
        "        #print()\n",
        "        #MSE Loss + Correlation\n",
        "        loss=criterion(left0, left)+criterion(right0, right)+criterion(left2, left)+criterion(right1, right)-correlation([[h1, h2], [hleft_1, hright_1], [hleft_2, hright_2]])\n",
        "        epoch_loss += loss\n",
        "        #print(h0.shape, left0.shape, right0.shape, hleft_1.shape, hleft_2.shape, hright_1.shape, hright_2.shape)\n",
        "        optimizer.zero_grad()\n",
        "        loss.backward()\n",
        "        optimizer.step()\n",
        "        \n",
        "        #break\n",
        "    train_loss.append(epoch_loss)\n",
        "    #break\n",
        "    # print(\"epoch :\",i,\"   Loss :\",epoch_loss)"
      ],
      "execution_count": 45,
      "outputs": [
        {
          "output_type": "stream",
          "text": [
            "100%|██████████| 50/50 [07:54<00:00,  9.48s/it]\n"
          ],
          "name": "stderr"
        }
      ]
    },
    {
      "cell_type": "code",
      "metadata": {
        "colab": {
          "base_uri": "https://localhost:8080/",
          "height": 295
        },
        "id": "ZH9hbMViyU3N",
        "outputId": "bd2663be-5892-45f5-d03d-82b426c47867"
      },
      "source": [
        "plot_loss(train_loss, num_epochs)"
      ],
      "execution_count": 46,
      "outputs": [
        {
          "output_type": "display_data",
          "data": {
            "image/png": "[encoded data removed]",
            "text/plain": [
              "<Figure size 432x288 with 1 Axes>"
            ]
          },
          "metadata": {
            "tags": [],
            "needs_background": "light"
          }
        }
      ]
    },
    {
      "cell_type": "code",
      "metadata": {
        "colab": {
          "base_uri": "https://localhost:8080/"
        },
        "id": "h3mlZ9Dxvmt7",
        "outputId": "451f2be8-6527-4008-cb1f-8058635ffe09"
      },
      "source": [
        "for x in train_loader:\n",
        "    x = x.to(device=device)\n",
        "    x = x.reshape(64,1,2,28,14)\n",
        "    x = x.float()\n",
        "    templ, tempr = x.detach().clone(), x.detach().clone()\n",
        "    templ[:, :, 0, :, :]=0\n",
        "    tempr[:, :, 1, :, :]=0\n",
        "    # h0, left0, right0, hleft_1, hleft_2, hright_1, hright_2 = model(x) #Giving both left and right as input\n",
        "    h1, left1, right1, _, _, _, _ = model(tempr) #Giving only left as input\n",
        "    h2, left2, right2, _, _, _, _ = model(templ) #Giving only right as input\n",
        "    left1 = left1.reshape(64,1,1,28,14)\n",
        "    right2 = right2.reshape(64,1,1,28,14)\n",
        "    left2 = left2.reshape(64,1,1,28,14)\n",
        "    right1 = right1.reshape(64,1,1,28,14)\n",
        "    break\n",
        "\n",
        "print(h0.shape, left0.shape, right0.shape, hleft_1.shape, hleft_2.shape, hright_1.shape, hright_2.shape)"
      ],
      "execution_count": 52,
      "outputs": [
        {
          "output_type": "stream",
          "text": [
            "torch.Size([64, 20]) torch.Size([64, 1, 1, 28, 14]) torch.Size([64, 1, 1, 28, 14]) torch.Size([64, 64]) torch.Size([64, 32]) torch.Size([64, 64]) torch.Size([64, 32])\n"
          ],
          "name": "stdout"
        }
      ]
    },
    {
      "cell_type": "code",
      "metadata": {
        "colab": {
          "base_uri": "https://localhost:8080/"
        },
        "id": "swwpvSarxR0u",
        "outputId": "f8c8d92d-fdfc-406d-c738-1c91f021e24d"
      },
      "source": [
        "x.shape"
      ],
      "execution_count": 48,
      "outputs": [
        {
          "output_type": "execute_result",
          "data": {
            "text/plain": [
              "torch.Size([64, 1, 2, 28, 14])"
            ]
          },
          "metadata": {
            "tags": []
          },
          "execution_count": 48
        }
      ]
    },
    {
      "cell_type": "code",
      "metadata": {
        "id": "B0o4rXj7wB9p"
      },
      "source": [
        "def show_sample_reconstructions(reconstrucions, actual):\n",
        "  reconstrucions = reconstrucions.reshape(64,1,1,28,14)\n",
        "  w=10\n",
        "  h=10\n",
        "  fig=plt.figure(figsize=(24, 12))\n",
        "  columns = 16\n",
        "  rows = 8\n",
        "  idx = 0\n",
        "  act_idx = np.arange(2, 64 , 2) \n",
        "  recons_idx = np.arange(1, 64 , 2)\n",
        "  for i in range(0, columns*rows-1 ):\n",
        "      \n",
        "      fig.add_subplot(rows, columns, recons_idx[i]) \n",
        "    #   print(reconstrucions.shape)\n",
        "      plt.imshow(reconstrucions[idx,0,0,:,:])\n",
        "      fig.add_subplot(rows, columns, act_idx[i]) \n",
        "      plt.imshow(actual[idx,0,0,:,:])\n",
        "      #fig.add_subplot(rows, columns, i+1) \n",
        "      #plt.imshow(reconstrucions[idx,0,0,:,:])\n",
        "      #fig.add_subplot(rows, columns, i+2) \n",
        "      #plt.imshow(actual[idx,0,0,:,:])  \n",
        "      idx += 1\n",
        "  plt.show()"
      ],
      "execution_count": 49,
      "outputs": []
    },
    {
      "cell_type": "code",
      "metadata": {
        "colab": {
          "base_uri": "https://localhost:8080/",
          "height": 669
        },
        "id": "CVkhT1g98W7-",
        "outputId": "4b0b7a7b-434a-46a7-c53a-33cf010f1fa9"
      },
      "source": [
        "actual = x.cpu().detach().numpy()\n",
        "print(actual.shape)\n",
        "actual = actual[:,:,0,:,:].reshape(64,1,1,28,14)\n",
        "show_sample_reconstructions(right1.cpu().detach().numpy(), actual)"
      ],
      "execution_count": 53,
      "outputs": [
        {
          "output_type": "stream",
          "text": [
            "(64, 1, 2, 28, 14)\n"
          ],
          "name": "stdout"
        },
        {
          "output_type": "error",
          "ename": "IndexError",
          "evalue": "ignored",
          "traceback": [
            "\u001b[0;31m---------------------------------------------------------------------------\u001b[0m",
            "\u001b[0;31mIndexError\u001b[0m                                Traceback (most recent call last)",
            "\u001b[0;32m<ipython-input-53-b294d8f8c825>\u001b[0m in \u001b[0;36m<module>\u001b[0;34m()\u001b[0m\n\u001b[1;32m      2\u001b[0m \u001b[0mprint\u001b[0m\u001b[0;34m(\u001b[0m\u001b[0mactual\u001b[0m\u001b[0;34m.\u001b[0m\u001b[0mshape\u001b[0m\u001b[0;34m)\u001b[0m\u001b[0;34m\u001b[0m\u001b[0;34m\u001b[0m\u001b[0m\n\u001b[1;32m      3\u001b[0m \u001b[0mactual\u001b[0m \u001b[0;34m=\u001b[0m \u001b[0mactual\u001b[0m\u001b[0;34m[\u001b[0m\u001b[0;34m:\u001b[0m\u001b[0;34m,\u001b[0m\u001b[0;34m:\u001b[0m\u001b[0;34m,\u001b[0m\u001b[0;36m0\u001b[0m\u001b[0;34m,\u001b[0m\u001b[0;34m:\u001b[0m\u001b[0;34m,\u001b[0m\u001b[0;34m:\u001b[0m\u001b[0;34m]\u001b[0m\u001b[0;34m.\u001b[0m\u001b[0mreshape\u001b[0m\u001b[0;34m(\u001b[0m\u001b[0;36m64\u001b[0m\u001b[0;34m,\u001b[0m\u001b[0;36m1\u001b[0m\u001b[0;34m,\u001b[0m\u001b[0;36m1\u001b[0m\u001b[0;34m,\u001b[0m\u001b[0;36m28\u001b[0m\u001b[0;34m,\u001b[0m\u001b[0;36m14\u001b[0m\u001b[0;34m)\u001b[0m\u001b[0;34m\u001b[0m\u001b[0;34m\u001b[0m\u001b[0m\n\u001b[0;32m----> 4\u001b[0;31m \u001b[0mshow_sample_reconstructions\u001b[0m\u001b[0;34m(\u001b[0m\u001b[0mright1\u001b[0m\u001b[0;34m.\u001b[0m\u001b[0mcpu\u001b[0m\u001b[0;34m(\u001b[0m\u001b[0;34m)\u001b[0m\u001b[0;34m.\u001b[0m\u001b[0mdetach\u001b[0m\u001b[0;34m(\u001b[0m\u001b[0;34m)\u001b[0m\u001b[0;34m.\u001b[0m\u001b[0mnumpy\u001b[0m\u001b[0;34m(\u001b[0m\u001b[0;34m)\u001b[0m\u001b[0;34m,\u001b[0m \u001b[0mactual\u001b[0m\u001b[0;34m)\u001b[0m\u001b[0;34m\u001b[0m\u001b[0;34m\u001b[0m\u001b[0m\n\u001b[0m",
            "\u001b[0;32m<ipython-input-49-db96363e6109>\u001b[0m in \u001b[0;36mshow_sample_reconstructions\u001b[0;34m(reconstrucions, actual)\u001b[0m\n\u001b[1;32m     14\u001b[0m     \u001b[0;31m#   print(reconstrucions.shape)\u001b[0m\u001b[0;34m\u001b[0m\u001b[0;34m\u001b[0m\u001b[0;34m\u001b[0m\u001b[0m\n\u001b[1;32m     15\u001b[0m       \u001b[0mplt\u001b[0m\u001b[0;34m.\u001b[0m\u001b[0mimshow\u001b[0m\u001b[0;34m(\u001b[0m\u001b[0mreconstrucions\u001b[0m\u001b[0;34m[\u001b[0m\u001b[0midx\u001b[0m\u001b[0;34m,\u001b[0m\u001b[0;36m0\u001b[0m\u001b[0;34m,\u001b[0m\u001b[0;36m0\u001b[0m\u001b[0;34m,\u001b[0m\u001b[0;34m:\u001b[0m\u001b[0;34m,\u001b[0m\u001b[0;34m:\u001b[0m\u001b[0;34m]\u001b[0m\u001b[0;34m)\u001b[0m\u001b[0;34m\u001b[0m\u001b[0;34m\u001b[0m\u001b[0m\n\u001b[0;32m---> 16\u001b[0;31m       \u001b[0mfig\u001b[0m\u001b[0;34m.\u001b[0m\u001b[0madd_subplot\u001b[0m\u001b[0;34m(\u001b[0m\u001b[0mrows\u001b[0m\u001b[0;34m,\u001b[0m \u001b[0mcolumns\u001b[0m\u001b[0;34m,\u001b[0m \u001b[0mact_idx\u001b[0m\u001b[0;34m[\u001b[0m\u001b[0mi\u001b[0m\u001b[0;34m]\u001b[0m\u001b[0;34m)\u001b[0m\u001b[0;34m\u001b[0m\u001b[0;34m\u001b[0m\u001b[0m\n\u001b[0m\u001b[1;32m     17\u001b[0m       \u001b[0mplt\u001b[0m\u001b[0;34m.\u001b[0m\u001b[0mimshow\u001b[0m\u001b[0;34m(\u001b[0m\u001b[0mactual\u001b[0m\u001b[0;34m[\u001b[0m\u001b[0midx\u001b[0m\u001b[0;34m,\u001b[0m\u001b[0;36m0\u001b[0m\u001b[0;34m,\u001b[0m\u001b[0;36m0\u001b[0m\u001b[0;34m,\u001b[0m\u001b[0;34m:\u001b[0m\u001b[0;34m,\u001b[0m\u001b[0;34m:\u001b[0m\u001b[0;34m]\u001b[0m\u001b[0;34m)\u001b[0m\u001b[0;34m\u001b[0m\u001b[0;34m\u001b[0m\u001b[0m\n\u001b[1;32m     18\u001b[0m       \u001b[0;31m#fig.add_subplot(rows, columns, i+1)\u001b[0m\u001b[0;34m\u001b[0m\u001b[0;34m\u001b[0m\u001b[0;34m\u001b[0m\u001b[0m\n",
            "\u001b[0;31mIndexError\u001b[0m: index 31 is out of bounds for axis 0 with size 31"
          ]
        },
        {
          "output_type": "display_data",
          "data": {
            "image/png": "[encoded data removed]",
            "text/plain": [
              "<Figure size 1728x864 with 63 Axes>"
            ]
          },
          "metadata": {
            "tags": [],
            "needs_background": "light"
          }
        }
      ]
    },
    {
      "cell_type": "code",
      "metadata": {
        "colab": {
          "base_uri": "https://localhost:8080/",
          "height": 652
        },
        "id": "7T1meY42wylm",
        "outputId": "c61dcce5-39cd-4c27-cc91-76fd58707989"
      },
      "source": [
        "actual = x.cpu().detach().numpy()\n",
        "actual = actual[:,:,1,:,:].reshape(64,1,1,28,14)\n",
        "show_sample_reconstructions(left2.cpu().detach().numpy(), actual)"
      ],
      "execution_count": 51,
      "outputs": [
        {
          "output_type": "error",
          "ename": "IndexError",
          "evalue": "ignored",
          "traceback": [
            "\u001b[0;31m---------------------------------------------------------------------------\u001b[0m",
            "\u001b[0;31mIndexError\u001b[0m                                Traceback (most recent call last)",
            "\u001b[0;32m<ipython-input-51-5a36ed491ddf>\u001b[0m in \u001b[0;36m<module>\u001b[0;34m()\u001b[0m\n\u001b[1;32m      1\u001b[0m \u001b[0mactual\u001b[0m \u001b[0;34m=\u001b[0m \u001b[0mx\u001b[0m\u001b[0;34m.\u001b[0m\u001b[0mcpu\u001b[0m\u001b[0;34m(\u001b[0m\u001b[0;34m)\u001b[0m\u001b[0;34m.\u001b[0m\u001b[0mdetach\u001b[0m\u001b[0;34m(\u001b[0m\u001b[0;34m)\u001b[0m\u001b[0;34m.\u001b[0m\u001b[0mnumpy\u001b[0m\u001b[0;34m(\u001b[0m\u001b[0;34m)\u001b[0m\u001b[0;34m\u001b[0m\u001b[0;34m\u001b[0m\u001b[0m\n\u001b[1;32m      2\u001b[0m \u001b[0mactual\u001b[0m \u001b[0;34m=\u001b[0m \u001b[0mactual\u001b[0m\u001b[0;34m[\u001b[0m\u001b[0;34m:\u001b[0m\u001b[0;34m,\u001b[0m\u001b[0;34m:\u001b[0m\u001b[0;34m,\u001b[0m\u001b[0;36m1\u001b[0m\u001b[0;34m,\u001b[0m\u001b[0;34m:\u001b[0m\u001b[0;34m,\u001b[0m\u001b[0;34m:\u001b[0m\u001b[0;34m]\u001b[0m\u001b[0;34m.\u001b[0m\u001b[0mreshape\u001b[0m\u001b[0;34m(\u001b[0m\u001b[0;36m64\u001b[0m\u001b[0;34m,\u001b[0m\u001b[0;36m1\u001b[0m\u001b[0;34m,\u001b[0m\u001b[0;36m1\u001b[0m\u001b[0;34m,\u001b[0m\u001b[0;36m28\u001b[0m\u001b[0;34m,\u001b[0m\u001b[0;36m14\u001b[0m\u001b[0;34m)\u001b[0m\u001b[0;34m\u001b[0m\u001b[0;34m\u001b[0m\u001b[0m\n\u001b[0;32m----> 3\u001b[0;31m \u001b[0mshow_sample_reconstructions\u001b[0m\u001b[0;34m(\u001b[0m\u001b[0mleft2\u001b[0m\u001b[0;34m.\u001b[0m\u001b[0mcpu\u001b[0m\u001b[0;34m(\u001b[0m\u001b[0;34m)\u001b[0m\u001b[0;34m.\u001b[0m\u001b[0mdetach\u001b[0m\u001b[0;34m(\u001b[0m\u001b[0;34m)\u001b[0m\u001b[0;34m.\u001b[0m\u001b[0mnumpy\u001b[0m\u001b[0;34m(\u001b[0m\u001b[0;34m)\u001b[0m\u001b[0;34m,\u001b[0m \u001b[0mactual\u001b[0m\u001b[0;34m)\u001b[0m\u001b[0;34m\u001b[0m\u001b[0;34m\u001b[0m\u001b[0m\n\u001b[0m",
            "\u001b[0;32m<ipython-input-49-db96363e6109>\u001b[0m in \u001b[0;36mshow_sample_reconstructions\u001b[0;34m(reconstrucions, actual)\u001b[0m\n\u001b[1;32m     14\u001b[0m     \u001b[0;31m#   print(reconstrucions.shape)\u001b[0m\u001b[0;34m\u001b[0m\u001b[0;34m\u001b[0m\u001b[0;34m\u001b[0m\u001b[0m\n\u001b[1;32m     15\u001b[0m       \u001b[0mplt\u001b[0m\u001b[0;34m.\u001b[0m\u001b[0mimshow\u001b[0m\u001b[0;34m(\u001b[0m\u001b[0mreconstrucions\u001b[0m\u001b[0;34m[\u001b[0m\u001b[0midx\u001b[0m\u001b[0;34m,\u001b[0m\u001b[0;36m0\u001b[0m\u001b[0;34m,\u001b[0m\u001b[0;36m0\u001b[0m\u001b[0;34m,\u001b[0m\u001b[0;34m:\u001b[0m\u001b[0;34m,\u001b[0m\u001b[0;34m:\u001b[0m\u001b[0;34m]\u001b[0m\u001b[0;34m)\u001b[0m\u001b[0;34m\u001b[0m\u001b[0;34m\u001b[0m\u001b[0m\n\u001b[0;32m---> 16\u001b[0;31m       \u001b[0mfig\u001b[0m\u001b[0;34m.\u001b[0m\u001b[0madd_subplot\u001b[0m\u001b[0;34m(\u001b[0m\u001b[0mrows\u001b[0m\u001b[0;34m,\u001b[0m \u001b[0mcolumns\u001b[0m\u001b[0;34m,\u001b[0m \u001b[0mact_idx\u001b[0m\u001b[0;34m[\u001b[0m\u001b[0mi\u001b[0m\u001b[0;34m]\u001b[0m\u001b[0;34m)\u001b[0m\u001b[0;34m\u001b[0m\u001b[0;34m\u001b[0m\u001b[0m\n\u001b[0m\u001b[1;32m     17\u001b[0m       \u001b[0mplt\u001b[0m\u001b[0;34m.\u001b[0m\u001b[0mimshow\u001b[0m\u001b[0;34m(\u001b[0m\u001b[0mactual\u001b[0m\u001b[0;34m[\u001b[0m\u001b[0midx\u001b[0m\u001b[0;34m,\u001b[0m\u001b[0;36m0\u001b[0m\u001b[0;34m,\u001b[0m\u001b[0;36m0\u001b[0m\u001b[0;34m,\u001b[0m\u001b[0;34m:\u001b[0m\u001b[0;34m,\u001b[0m\u001b[0;34m:\u001b[0m\u001b[0;34m]\u001b[0m\u001b[0;34m)\u001b[0m\u001b[0;34m\u001b[0m\u001b[0;34m\u001b[0m\u001b[0m\n\u001b[1;32m     18\u001b[0m       \u001b[0;31m#fig.add_subplot(rows, columns, i+1)\u001b[0m\u001b[0;34m\u001b[0m\u001b[0;34m\u001b[0m\u001b[0;34m\u001b[0m\u001b[0m\n",
            "\u001b[0;31mIndexError\u001b[0m: index 31 is out of bounds for axis 0 with size 31"
          ]
        },
        {
          "output_type": "display_data",
          "data": {
            "image/png": "[encoded data removed]",
            "text/plain": [
              "<Figure size 1728x864 with 63 Axes>"
            ]
          },
          "metadata": {
            "tags": [],
            "needs_background": "light"
          }
        }
      ]
    },
    {
      "cell_type": "code",
      "metadata": {
        "colab": {
          "base_uri": "https://localhost:8080/"
        },
        "id": "3PG3sScC1BVI",
        "outputId": "bb8197f9-b1ef-427f-a545-ef91c50d7290"
      },
      "source": [
        "np.arange(1,64,2)"
      ],
      "execution_count": null,
      "outputs": [
        {
          "output_type": "execute_result",
          "data": {
            "text/plain": [
              "array([ 1,  3,  5,  7,  9, 11, 13, 15, 17, 19, 21, 23, 25, 27, 29, 31, 33,\n",
              "       35, 37, 39, 41, 43, 45, 47, 49, 51, 53, 55, 57, 59, 61, 63])"
            ]
          },
          "metadata": {
            "tags": []
          },
          "execution_count": 67
        }
      ]
    }
  ]
}